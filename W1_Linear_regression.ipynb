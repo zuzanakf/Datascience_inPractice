{
 "cells": [
  {
   "cell_type": "markdown",
   "id": "e4b3ea7c",
   "metadata": {},
   "source": [
    "# Linear regression notation exercise\n",
    "\n",
    "These exercises will test your understanding of vectors and vector notation, in\n",
    "the context of linear regression. Please refer to the textbook page [Linear\n",
    "Regression Notation](LINK_HERE) if you get stuck at any point. Learning the\n",
    "notation can be challenging, so please do not worry if you need to check the\n",
    "textbook page multiple times, this is completely normal!\n",
    "\n",
    "*Note*: for the auto-marking on this page to work correctly it is very important that you store you answers using the variable names that you are instructed to use..."
   ]
  },
  {
   "cell_type": "code",
   "execution_count": 3,
   "id": "128ee277",
   "metadata": {},
   "outputs": [
    {
     "name": "stdout",
     "output_type": "stream",
     "text": [
      "=====================================================================\n",
      "Assignment: linear_regression_notation\n",
      "OK, version v1.18.1\n",
      "=====================================================================\n",
      "\n"
     ]
    }
   ],
   "source": [
    "# please run this cell\n",
    "import numpy as np\n",
    "import pandas as pd\n",
    "import matplotlib.pyplot as plt\n",
    "from jupyprint import jupyprint, arraytex\n",
    "\n",
    "# load some hints\n",
    "hint_paths = [\"hint_Q3.txt\", \"hint_Q7.txt\"] \n",
    "hints_dict = {}\n",
    "for hint_path in hint_paths:\n",
    "    with open(hint_path, \"r\") as file:\n",
    "        hints_dict[hint_path] = file.read()\n",
    "        \n",
    "# load some names\n",
    "name_paths = [\"names_1.txt\", \"names_2.txt\"] \n",
    "names_dict = {}\n",
    "for name_path in name_paths:\n",
    "    with open(name_path, \"r\") as file:\n",
    "        names_dict[name_path] = file.read()\n",
    "names_1 = [h.strip().strip(\"'\") for h in  names_dict['names_1.txt'].strip(\"[]\").split(\",\")]\n",
    "names_2 = [h.strip().strip(\"'\") for h in  names_dict['names_2.txt'].strip(\"[]\").split(\",\")]\n",
    "\n",
    "# load some variables for testing\n",
    "string_1 = '6%c&m!'.replace('%', 'n').replace('&', 'o').replace('!', 'e').replace('6', 'i')\n",
    "string_2 = '%re&ti!6'.replace('%', 'p').replace('&', 's').replace('!', 'g').replace('6', 'e')\n",
    "temp = pd.read_csv(\"Duncan_Occupational_Prestige.csv\")\n",
    "tester = temp[string_1]\n",
    "tester_2 = temp[string_2]\n",
    "tester_3 = tester[temp['type'] == '%1'.replace('1', 'c').replace('%', 'b')]\n",
    "tester_4 = tester_2[temp['type'] == '%1'.replace('1', 'c').replace('%', 'b')]\n",
    "import scipy.stats as sps\n",
    "tni, epo = sps.linregress(tester, tester_2).intercept, sps.linregress(tester, tester_2).slope\n",
    "tni_2, epo_2 = sps.linregress(tester_3, tester_4).intercept, sps.linregress(tester_3, tester_4).slope\n",
    "del sps\n",
    "\n",
    "# this imports the machinery for marking answers to questions\n",
    "from client.api.notebook import Notebook\n",
    "ok = Notebook('linear_regression_notation.ok')"
   ]
  },
  {
   "cell_type": "markdown",
   "id": "0174114c",
   "metadata": {},
   "source": [
    "## Question 1\n",
    "\n",
    "Here is a vector that contains the test scores of 8 students:\n",
    "\n",
    "$$\n",
    "\\vec{x} = \\begin{bmatrix}\n",
    "           14 \\\\\n",
    "           13 \\\\\n",
    "           17 \\\\\n",
    "           11 \\\\\n",
    "           14 \\\\\n",
    "           18 \\\\\n",
    "           17 \\\\\n",
    "           15 \\\\\n",
    "         \\end{bmatrix}\n",
    "$$\n",
    "\n",
    "Please recreate this vector in the code cell below, as a numpy array called `x`:"
   ]
  },
  {
   "cell_type": "code",
   "execution_count": 4,
   "id": "b4f53efe",
   "metadata": {},
   "outputs": [
    {
     "data": {
      "text/plain": [
       "array([14, 13, 17, 11, 14, 18, 17, 15])"
      ]
     },
     "execution_count": 4,
     "metadata": {},
     "output_type": "execute_result"
    }
   ],
   "source": [
    "#- make your vector/array here\n",
    "x = np.array([14,13,17,11,14,18,17,15])\n",
    "# Show the result\n",
    "x"
   ]
  },
  {
   "cell_type": "code",
   "execution_count": 5,
   "id": "08e7f7e3",
   "metadata": {},
   "outputs": [
    {
     "name": "stdout",
     "output_type": "stream",
     "text": [
      "~~~~~~~~~~~~~~~~~~~~~~~~~~~~~~~~~~~~~~~~~~~~~~~~~~~~~~~~~~~~~~~~~~~~~\n",
      "Running tests\n",
      "\n",
      "---------------------------------------------------------------------\n",
      "Test summary\n",
      "    Passed: 2\n",
      "    Failed: 0\n",
      "[ooooooooook] 100.0% passed\n",
      "\n"
     ]
    }
   ],
   "source": [
    "# run this cell to check your answer\n",
    "_ = ok.grade('q1')"
   ]
  },
  {
   "cell_type": "markdown",
   "id": "b3ab2bd0",
   "metadata": {},
   "source": [
    "## Question 2\n",
    "\n",
    "Please set the variable `my_Q2_answer` in the cell below to the number\n",
    "corresponding to the correct definition of \"vector\" (e.g. if you think the\n",
    "answer is statement 1, `set my_Q2_answer` to equal 1):\n",
    "\n",
    "`1` - a numpy array\n",
    "\n",
    "`2` - a sequence of values\n",
    "\n",
    "`3` - a python list\n",
    "\n",
    "`4` - a single number within a sequence of numbers\n",
    "\n",
    "`5` - it is another term for \"x-axis\""
   ]
  },
  {
   "cell_type": "code",
   "execution_count": 6,
   "id": "e7cb3001",
   "metadata": {},
   "outputs": [],
   "source": [
    "#- set `my_Q2_answer` to your answer\n",
    "my_Q2_answer = 2"
   ]
  },
  {
   "cell_type": "code",
   "execution_count": 7,
   "id": "299e7d23",
   "metadata": {},
   "outputs": [
    {
     "name": "stdout",
     "output_type": "stream",
     "text": [
      "~~~~~~~~~~~~~~~~~~~~~~~~~~~~~~~~~~~~~~~~~~~~~~~~~~~~~~~~~~~~~~~~~~~~~\n",
      "Running tests\n",
      "\n",
      "---------------------------------------------------------------------\n",
      "Test summary\n",
      "    Passed: 1\n",
      "    Failed: 0\n",
      "[ooooooooook] 100.0% passed\n",
      "\n"
     ]
    }
   ],
   "source": [
    "# run this cell to check your answer\n",
    "_ = ok.grade('q2')"
   ]
  },
  {
   "cell_type": "markdown",
   "id": "9aeeee77",
   "metadata": {},
   "source": [
    "## Question 3\n",
    "\n",
    "The python variable `x` contains the test scores of 8 students.\n",
    "\n",
    "The maximum score on the test was 20. We might wish to express each student's score as a percentage of the total score.\n",
    "\n",
    "Using the variable `x` which you defined earlier (which contains the test\n",
    "scores), please convert the values in the `x` vector to be percentages of the\n",
    "maximum possible score, and store your answer in a variable called\n",
    "`x_as_percentage`:\n",
    "\n",
    "*Note*: you can uncomment the second line in the cell below, to show an\n",
    "additional hint about what you need to do here..."
   ]
  },
  {
   "cell_type": "code",
   "execution_count": 8,
   "id": "669acc3b",
   "metadata": {},
   "outputs": [
    {
     "data": {
      "text/plain": [
       "array([70., 65., 85., 55., 70., 90., 85., 75.])"
      ]
     },
     "execution_count": 8,
     "metadata": {},
     "output_type": "execute_result"
    }
   ],
   "source": [
    "# Uncomment the line below to show a hint for this question,\n",
    "# if you get stuck on how to calculate the percentages.\n",
    "# jupyprint(hints_dict[\"hint_Q3.txt\"])\n",
    "\n",
    "# put your answer below\n",
    "x_as_percentage = (x/20)*100\n",
    "# show the values in your x_as_percentage variable\n",
    "x_as_percentage"
   ]
  },
  {
   "cell_type": "code",
   "execution_count": 9,
   "id": "8d9eeb8e",
   "metadata": {},
   "outputs": [
    {
     "name": "stdout",
     "output_type": "stream",
     "text": [
      "~~~~~~~~~~~~~~~~~~~~~~~~~~~~~~~~~~~~~~~~~~~~~~~~~~~~~~~~~~~~~~~~~~~~~\n",
      "Running tests\n",
      "\n",
      "---------------------------------------------------------------------\n",
      "Test summary\n",
      "    Passed: 2\n",
      "    Failed: 0\n",
      "[ooooooooook] 100.0% passed\n",
      "\n"
     ]
    }
   ],
   "source": [
    "# run this cell to check your answer\n",
    "_ = ok.grade('q3')"
   ]
  },
  {
   "cell_type": "markdown",
   "id": "495f208a",
   "metadata": {},
   "source": [
    "## Question 4\n",
    "\n",
    "Let's assume $\\vec{x}$ is our predictor vector in a linear regression model. We are assessing how well the scores on the first test - (i.e. the scores stored in the variable `x`) - predict the students' scores on a second test.\n",
    "\n",
    "The student's scores on the second test are shown below, in the vector $\\vec{y}$:\n",
    "\n",
    "$ \\vec{y} = \\begin{bmatrix}{} \n",
    "40 \\\\\n",
    "49 \\\\\n",
    "59 \\\\\n",
    "38 \\\\\n",
    "43 \\\\\n",
    "56 \\\\\n",
    "52 \\\\\n",
    "45 \\\\\n",
    "\\end{bmatrix}$\n",
    "\n",
    "Please recreate this vector as a numpy array called `y`:"
   ]
  },
  {
   "cell_type": "code",
   "execution_count": 10,
   "id": "2b2414c6",
   "metadata": {},
   "outputs": [
    {
     "data": {
      "text/plain": [
       "array([40, 49, 59, 38, 43, 56, 52, 45])"
      ]
     },
     "execution_count": 10,
     "metadata": {},
     "output_type": "execute_result"
    }
   ],
   "source": [
    "#- your answer here\n",
    "y = np.array([40,49,59,38,43,56,52,45])\n",
    "# Show the result\n",
    "y"
   ]
  },
  {
   "cell_type": "code",
   "execution_count": 11,
   "id": "4cd1fcfb",
   "metadata": {},
   "outputs": [
    {
     "name": "stdout",
     "output_type": "stream",
     "text": [
      "~~~~~~~~~~~~~~~~~~~~~~~~~~~~~~~~~~~~~~~~~~~~~~~~~~~~~~~~~~~~~~~~~~~~~\n",
      "Running tests\n",
      "\n",
      "---------------------------------------------------------------------\n",
      "Test summary\n",
      "    Passed: 1\n",
      "    Failed: 0\n",
      "[ooooooooook] 100.0% passed\n",
      "\n"
     ]
    }
   ],
   "source": [
    "# run this cell to check your answer\n",
    "_ = ok.grade('q4')"
   ]
  },
  {
   "cell_type": "markdown",
   "id": "fb6914b7",
   "metadata": {},
   "source": [
    "## Question 5\n",
    "\n",
    "We now have our `x` vector and our `y` vector. These vectors contain 8 students' scores on two different tests. The first test was a maths test and the second was a geography test.\n",
    "\n",
    "We'd like to see how well the scores in the `x` vector predict the scores in `y` vector. Does scoring highly on the maths test mean that a student is likely to also score highly on the geography test?\n",
    "\n",
    "Let's do some graphical inspection of the data first. Use the `plt.scatter`\n",
    "function to create a scatter plot with `x` (maths test score) on the x-axis and\n",
    "`y` (geography test score) on the y-axis."
   ]
  },
  {
   "cell_type": "code",
   "execution_count": 12,
   "id": "3229cad7",
   "metadata": {},
   "outputs": [
    {
     "data": {
      "text/plain": [
       "<matplotlib.collections.PathCollection at 0x7bf900da4b10>"
      ]
     },
     "execution_count": 12,
     "metadata": {},
     "output_type": "execute_result"
    },
    {
     "data": {
      "image/png": "[encoded data removed]",
      "text/plain": [
       "<Figure size 640x480 with 1 Axes>"
      ]
     },
     "metadata": {},
     "output_type": "display_data"
    }
   ],
   "source": [
    "#- your scatterplot here\n",
    "plt.scatter(x,y)"
   ]
  },
  {
   "cell_type": "markdown",
   "id": "315d5ff1",
   "metadata": {},
   "source": [
    "From looking at the graph, please set the variable `my_Q5_answer` in the cell\n",
    "below to the number corresponding to statement you think is most true (e.g. if\n",
    "you think the answer is statement 1, set `my_Q5_answer` to equal 1):\n",
    "\n",
    "`1` - there is no linear trend, the points do NOT seem to be approximately\n",
    "summarized by a straight line\n",
    "\n",
    "`2` - a scatterplot is not an appropriate type of graph for this type of data\n",
    "\n",
    "`3` - the association between `x` and `y` looks like it would be better described by a curve, rather than a straight line\n",
    "\n",
    "`4` - there is a linear trend, the points DO seem to be approximately\n",
    "summarized by a straight line\n",
    "\n",
    "`5` - it looks like the higher the `x` score, the lower the `y` score is likely to be"
   ]
  },
  {
   "cell_type": "code",
   "execution_count": 13,
   "id": "d308f9b1",
   "metadata": {},
   "outputs": [],
   "source": [
    "#- set `my_Q5_answer` to your answer\n",
    "my_Q5_answer = 4"
   ]
  },
  {
   "cell_type": "code",
   "execution_count": 14,
   "id": "9b8b7e29",
   "metadata": {},
   "outputs": [
    {
     "name": "stdout",
     "output_type": "stream",
     "text": [
      "~~~~~~~~~~~~~~~~~~~~~~~~~~~~~~~~~~~~~~~~~~~~~~~~~~~~~~~~~~~~~~~~~~~~~\n",
      "Running tests\n",
      "\n",
      "---------------------------------------------------------------------\n",
      "Test summary\n",
      "    Passed: 1\n",
      "    Failed: 0\n",
      "[ooooooooook] 100.0% passed\n",
      "\n"
     ]
    }
   ],
   "source": [
    "# run this cell to check your answer\n",
    "_ = ok.grade('q5')"
   ]
  },
  {
   "cell_type": "markdown",
   "id": "c67ada7a",
   "metadata": {},
   "source": [
    "## Question 6\n",
    "\n",
    "Using any python method you like to perform the linear regression, perform a linear regression using `x` as your predictor variable and `y` as your outcome variable.\n",
    "\n",
    "Store the intercept from your regression in a variable called `c`.\n",
    "\n",
    "Store the slope from your regression in a variable called `b`."
   ]
  },
  {
   "cell_type": "code",
   "execution_count": 18,
   "id": "0fc83d18",
   "metadata": {},
   "outputs": [
    {
     "name": "stdout",
     "output_type": "stream",
     "text": [
      "2.694533762057878\n",
      "7.668810289389064\n"
     ]
    },
    {
     "data": {
      "text/markdown": [
       "Intercept = 7.668810289389064"
      ],
      "text/plain": [
       "<IPython.core.display.Markdown object>"
      ]
     },
     "metadata": {},
     "output_type": "display_data"
    },
    {
     "data": {
      "text/markdown": [
       "Slope = 2.694533762057878"
      ],
      "text/plain": [
       "<IPython.core.display.Markdown object>"
      ]
     },
     "metadata": {},
     "output_type": "display_data"
    }
   ],
   "source": [
    "#- Do the linear regression to find slope b and intercept\n",
    "#- c in whatever way you like.\n",
    "#y=mx+c\n",
    "#find m \n",
    "\n",
    "from scipy.stats import linregress\n",
    "res = linregress(x, y)\n",
    "print(res[0])\n",
    "print(res[1])\n",
    "\n",
    "\n",
    "#- store your intercept value here\n",
    "c = res[1]\n",
    "#- store your slope value here\n",
    "b = res[0]\n",
    "# show the values of the intercept and slope\n",
    "jupyprint(f\"Intercept = {c}\")\n",
    "jupyprint(f\"Slope = {b}\")"
   ]
  },
  {
   "cell_type": "code",
   "execution_count": 19,
   "id": "5ca0057f",
   "metadata": {},
   "outputs": [
    {
     "name": "stdout",
     "output_type": "stream",
     "text": [
      "~~~~~~~~~~~~~~~~~~~~~~~~~~~~~~~~~~~~~~~~~~~~~~~~~~~~~~~~~~~~~~~~~~~~~\n",
      "Running tests\n",
      "\n",
      "---------------------------------------------------------------------\n",
      "Test summary\n",
      "    Passed: 1\n",
      "    Failed: 0\n",
      "[ooooooooook] 100.0% passed\n",
      "\n"
     ]
    }
   ],
   "source": [
    "# run this cell to check your answer\n",
    "_ = ok.grade('q6')"
   ]
  },
  {
   "cell_type": "markdown",
   "id": "efbac9ad",
   "metadata": {},
   "source": [
    "## Question 6b\n",
    "\n",
    "Please set the variable `my_Q6B_answer` in the cell below to the number\n",
    "corresponding to statement you think is most true <b> for the regression model\n",
    "we have just fit </b> (e.g. if you think the answer is statement 1, set\n",
    "`my_Q6B_answer` to equal 1):\n",
    "\n",
    "`1` - the slope tells us expected change in `x` (maths test) score if we compared two observational units which have the same `y` (geography test) score\n",
    "\n",
    "`2` - the slope is a constant value, added to all of the `x` (maths test) scores\n",
    "\n",
    "`3` - the slope tells us expected change in `y` (geography test) scores if we compared two observational units which have the same `x` (maths test) score. In this case, if they differed by 1 point in `x` score, they are likely to differ by over 2 points in `y` score\n",
    "\n",
    "`4` - the slope tells us expected change in `y` (geography test) scores if we compared two observational units which have the same `x` (maths test) score.. In this case, if they differed by 1 point in `x` score, they are likely to differ by over 7 points in `y` score\n",
    "\n",
    "`5` - the slope tells us that the association between `x` and `y` is random"
   ]
  },
  {
   "cell_type": "code",
   "execution_count": 20,
   "id": "24f6de8a",
   "metadata": {},
   "outputs": [],
   "source": [
    "#- set `my_Q6B_answer` to your answer\n",
    "my_Q6B_answer = 3"
   ]
  },
  {
   "cell_type": "code",
   "execution_count": 21,
   "id": "0142b8ed",
   "metadata": {},
   "outputs": [
    {
     "name": "stdout",
     "output_type": "stream",
     "text": [
      "~~~~~~~~~~~~~~~~~~~~~~~~~~~~~~~~~~~~~~~~~~~~~~~~~~~~~~~~~~~~~~~~~~~~~\n",
      "Running tests\n",
      "\n",
      "---------------------------------------------------------------------\n",
      "Test summary\n",
      "    Passed: 1\n",
      "    Failed: 0\n",
      "[ooooooooook] 100.0% passed\n",
      "\n"
     ]
    }
   ],
   "source": [
    "# run this cell to check your answer\n",
    "_ = ok.grade('q6b')"
   ]
  },
  {
   "cell_type": "markdown",
   "id": "970b5a68",
   "metadata": {},
   "source": [
    "## Question 7\n",
    "\n",
    "Now we have the slope ($b$) and the intercept ($c$) from our linear regression, please generate the vector of fitted values, using $\\vec{x}$, $b$ and $c$.\n",
    "\n",
    "Store your answer in a variable called `y_hat`:\n",
    "\n",
    "*Note*: you can uncomment the second line of code in the cell below to get a hint to help you here."
   ]
  },
  {
   "cell_type": "code",
   "execution_count": 22,
   "id": "fce9c3ba",
   "metadata": {},
   "outputs": [
    {
     "data": {
      "text/plain": [
       "array([45.39228296, 42.6977492 , 53.47588424, 37.30868167, 45.39228296,\n",
       "       56.17041801, 53.47588424, 48.08681672])"
      ]
     },
     "execution_count": 22,
     "metadata": {},
     "output_type": "execute_result"
    }
   ],
   "source": [
    "# uncomment the line below to show a hint for this question\n",
    "# jupyprint(hints_dict[\"hint_Q7.txt\"])\n",
    "\n",
    "# your answer here\n",
    "y_hat = c+ (b*x)\n",
    "# show the values in your y_hat vector\n",
    "y_hat"
   ]
  },
  {
   "cell_type": "code",
   "execution_count": 23,
   "id": "577a69c0",
   "metadata": {},
   "outputs": [
    {
     "name": "stdout",
     "output_type": "stream",
     "text": [
      "~~~~~~~~~~~~~~~~~~~~~~~~~~~~~~~~~~~~~~~~~~~~~~~~~~~~~~~~~~~~~~~~~~~~~\n",
      "Running tests\n",
      "\n",
      "---------------------------------------------------------------------\n",
      "Test summary\n",
      "    Passed: 1\n",
      "    Failed: 0\n",
      "[ooooooooook] 100.0% passed\n",
      "\n"
     ]
    }
   ],
   "source": [
    "# run this cell to check your answer\n",
    "_ = ok.grade('q7')"
   ]
  },
  {
   "cell_type": "markdown",
   "id": "de7cee89",
   "metadata": {},
   "source": [
    "## Question 8\n",
    "\n",
    "Using the `y_hat` vector which you just calculated, please calculate the error vector in the cell below. Store your answer\n",
    "as a variable called `errors`."
   ]
  },
  {
   "cell_type": "code",
   "execution_count": 26,
   "id": "21aa95f1",
   "metadata": {},
   "outputs": [
    {
     "data": {
      "text/plain": [
       "array([-5.39228296,  6.3022508 ,  5.52411576,  0.69131833, -2.39228296,\n",
       "       -0.17041801, -1.47588424, -3.08681672])"
      ]
     },
     "execution_count": 26,
     "metadata": {},
     "output_type": "execute_result"
    }
   ],
   "source": [
    "#- your answer here\n",
    "errors = y - y_hat\n",
    "# show the error vector\n",
    "errors"
   ]
  },
  {
   "cell_type": "code",
   "execution_count": 27,
   "id": "9551d142",
   "metadata": {},
   "outputs": [
    {
     "name": "stdout",
     "output_type": "stream",
     "text": [
      "~~~~~~~~~~~~~~~~~~~~~~~~~~~~~~~~~~~~~~~~~~~~~~~~~~~~~~~~~~~~~~~~~~~~~\n",
      "Running tests\n",
      "\n",
      "---------------------------------------------------------------------\n",
      "Test summary\n",
      "    Passed: 2\n",
      "    Failed: 0\n",
      "[ooooooooook] 100.0% passed\n",
      "\n"
     ]
    }
   ],
   "source": [
    "# run this cell to check your answer\n",
    "_ = ok.grade('q8')"
   ]
  },
  {
   "cell_type": "markdown",
   "id": "5eff35af",
   "metadata": {},
   "source": [
    "## Question 9\n",
    "\n",
    "Please set the variable `my_Q9_answer` in the cell below to the number\n",
    "corresponding to statement you think is most true (e.g. if you think the answer\n",
    "is statement 1, set `my_Q9_answer` to equal 1):\n",
    "\n",
    "`1` - the `errors` vector contains the fitted values, plus the errors\n",
    "\n",
    "`2` - the `errors` vector contains the intercept, plus the `y` values\n",
    "\n",
    "`3` - the `errors` vector contains more values than the `y` vector and the `x` vector\n",
    "\n",
    "`4` - the `errors` vector contains less values than the `y` vector and the `x` vector\n",
    "\n",
    "`5` - the `errors` vector contains the distance between each `y` value and its corresponding fitted (`y_hat`) value"
   ]
  },
  {
   "cell_type": "code",
   "execution_count": 28,
   "id": "568a6c9d",
   "metadata": {},
   "outputs": [],
   "source": [
    "#- set `my_Q9_answer` to your answer\n",
    "my_Q9_answer = 5"
   ]
  },
  {
   "cell_type": "code",
   "execution_count": 29,
   "id": "3eae861b",
   "metadata": {},
   "outputs": [
    {
     "name": "stdout",
     "output_type": "stream",
     "text": [
      "~~~~~~~~~~~~~~~~~~~~~~~~~~~~~~~~~~~~~~~~~~~~~~~~~~~~~~~~~~~~~~~~~~~~~\n",
      "Running tests\n",
      "\n",
      "---------------------------------------------------------------------\n",
      "Test summary\n",
      "    Passed: 1\n",
      "    Failed: 0\n",
      "[ooooooooook] 100.0% passed\n",
      "\n"
     ]
    }
   ],
   "source": [
    "# run this cell to check your answer\n",
    "_ = ok.grade('q9')"
   ]
  },
  {
   "cell_type": "markdown",
   "id": "dde736ee",
   "metadata": {},
   "source": [
    "## Question 10\n",
    "\n",
    "Here is the general mathematical form of a linear regression model with 8 observations (like the model we have fitted during this exercise):\n",
    "\n",
    "$\\begin{bmatrix}{} \\text{$y_{1}$} \\\\ \\text{$y_{2}$} \\\\ \\text{$y_{3}$} \\\\ \\text{$y_{4}$} \\\\ \\text{$y_{5}$} \\\\ \\text{$y_{6}$} \\\\ \\text{$y_{7}$} \\\\ \\text{$y_{8}$} \\end{bmatrix} = b * \\begin{bmatrix}{} \\text{$x_{1}$} \\\\ \\text{$x_{2}$} \\\\ \\text{$x_{3}$} \\\\ \\text{$x_{4}$} \\\\ \\text{$x_{5}$} \\\\ \\text{$x_{6}$} \\\\ \\text{$x_{7}$} \\\\ \\text{$x_{8}$}  \\end{bmatrix} + c +  \\begin{bmatrix}{} \\text{$\\varepsilon_{1}$} \\\\ \\text{$\\varepsilon_{2}$} \\\\ \\text{$\\varepsilon_{3}$} \\\\ \\text{$\\varepsilon_{4}$} \\\\ \\text{$\\varepsilon_{5}$} \\\\ \\text{$\\varepsilon_{6}$} \\\\ \\text{$\\varepsilon_{7}$} \\\\ \\text{$\\varepsilon_{8}$}\\end{bmatrix} $\n",
    "\n",
    "Using this formula, write a python function in the cell below called `recreate_y_values()` which takes `x`, `b`, `c`, and `errors` as its input arguments, and returns the `y` values as its output.\n",
    "\n",
    "<b> DO NOT USE THE VARIABLE `y` AT ANY POINT IN THE FUNCTION.</b> It is possible to calculate the original $\\vec{y}$ values from `x`, `b`, `c`, and `errors`.\n",
    "\n",
    "*Note*: this is tricky, but straightforward once you realise what you have to do. Please check the textbook page if you get stuck."
   ]
  },
  {
   "cell_type": "code",
   "execution_count": 30,
   "id": "c584b13c",
   "metadata": {},
   "outputs": [
    {
     "data": {
      "text/plain": [
       "array([40., 49., 59., 38., 43., 56., 52., 45.])"
      ]
     },
     "execution_count": 30,
     "metadata": {},
     "output_type": "execute_result"
    }
   ],
   "source": [
    "# create your function here\n",
    "def recreate_y_values(x, b, c, errors):\n",
    "    #y_hat = mx+c\n",
    "    #y = errors +y_hat\n",
    "    #y = erros + (mx+c)\n",
    "    return (errors + (b*x) + c)\n",
    "# test out your function here\n",
    "recreate_y_values(x, b, c, errors)"
   ]
  },
  {
   "cell_type": "code",
   "execution_count": 31,
   "id": "98de2507",
   "metadata": {},
   "outputs": [
    {
     "name": "stdout",
     "output_type": "stream",
     "text": [
      "~~~~~~~~~~~~~~~~~~~~~~~~~~~~~~~~~~~~~~~~~~~~~~~~~~~~~~~~~~~~~~~~~~~~~\n",
      "Running tests\n",
      "\n",
      "---------------------------------------------------------------------\n",
      "Test summary\n",
      "    Passed: 2\n",
      "    Failed: 0\n",
      "[ooooooooook] 100.0% passed\n",
      "\n"
     ]
    }
   ],
   "source": [
    "# run this cell to check your answer\n",
    "_ = ok.grade('q10')"
   ]
  },
  {
   "cell_type": "markdown",
   "id": "5bd017c7",
   "metadata": {},
   "source": [
    "## Question 11\n",
    "\n",
    "We'll now return to the Duncan Occupational Prestige dataset which we saw on the textbook page.\n",
    "\n",
    "Run the cell below to import the data. For a reminder, here is the description of the dataset/variables:\n",
    "\n",
    "Duncan (1961) combined information from the 1950 U.S. Census with data collected by the\n",
    "National Opinion Research Centre (NORC). The Census data contained information\n",
    "about different occupations, such as the percentage of people working in that occupation\n",
    "who earned over a certain amount per year. The NORC data was from a survey which asked\n",
    "participants to rate how prestigious they considered each occupation.\n",
    "\n",
    "Here are descriptions of the variables in the dataset, which covers 45 occupations (adapted from [here](https://rdrr.io/cran/carData/man/Duncan.html)):\n",
    "\n",
    "`name` - the name of the occupation, from the 1950 US Census\n",
    "\n",
    "`type`- type of occupation, with the following categories ``prof``,\n",
    "professional and managerial; ``wc``, white-collar; ``bc``, blue-collar. (E.g. how the\n",
    "occupation was classified in the 1950 US Census)\n",
    "\n",
    "`income` - percentage of census respondents within the occupation who\n",
    "earned 3,500 dollars or more per year (about 36,000 US dollars in 2017)\n",
    "\n",
    "`education` - percentage of census respondents within the occupation who were high school\n",
    "graduates \n",
    "\n",
    "`prestige` - percentage of respondents in the NORC survey who rated the occupation\n",
    "as “good” or better in prestige"
   ]
  },
  {
   "cell_type": "code",
   "execution_count": 32,
   "id": "d4ddc123",
   "metadata": {},
   "outputs": [
    {
     "data": {
      "text/html": [
       "<div>\n",
       "<style scoped>\n",
       "    .dataframe tbody tr th:only-of-type {\n",
       "        vertical-align: middle;\n",
       "    }\n",
       "\n",
       "    .dataframe tbody tr th {\n",
       "        vertical-align: top;\n",
       "    }\n",
       "\n",
       "    .dataframe thead th {\n",
       "        text-align: right;\n",
       "    }\n",
       "</style>\n",
       "<table border=\"1\" class=\"dataframe\">\n",
       "  <thead>\n",
       "    <tr style=\"text-align: right;\">\n",
       "      <th></th>\n",
       "      <th>name</th>\n",
       "      <th>type</th>\n",
       "      <th>income</th>\n",
       "      <th>education</th>\n",
       "      <th>prestige</th>\n",
       "    </tr>\n",
       "  </thead>\n",
       "  <tbody>\n",
       "    <tr>\n",
       "      <th>0</th>\n",
       "      <td>accountant</td>\n",
       "      <td>prof</td>\n",
       "      <td>62</td>\n",
       "      <td>86</td>\n",
       "      <td>82</td>\n",
       "    </tr>\n",
       "    <tr>\n",
       "      <th>1</th>\n",
       "      <td>pilot</td>\n",
       "      <td>prof</td>\n",
       "      <td>72</td>\n",
       "      <td>76</td>\n",
       "      <td>83</td>\n",
       "    </tr>\n",
       "    <tr>\n",
       "      <th>2</th>\n",
       "      <td>architect</td>\n",
       "      <td>prof</td>\n",
       "      <td>75</td>\n",
       "      <td>92</td>\n",
       "      <td>90</td>\n",
       "    </tr>\n",
       "    <tr>\n",
       "      <th>3</th>\n",
       "      <td>author</td>\n",
       "      <td>prof</td>\n",
       "      <td>55</td>\n",
       "      <td>90</td>\n",
       "      <td>76</td>\n",
       "    </tr>\n",
       "    <tr>\n",
       "      <th>4</th>\n",
       "      <td>chemist</td>\n",
       "      <td>prof</td>\n",
       "      <td>64</td>\n",
       "      <td>86</td>\n",
       "      <td>90</td>\n",
       "    </tr>\n",
       "    <tr>\n",
       "      <th>5</th>\n",
       "      <td>minister</td>\n",
       "      <td>prof</td>\n",
       "      <td>21</td>\n",
       "      <td>84</td>\n",
       "      <td>87</td>\n",
       "    </tr>\n",
       "    <tr>\n",
       "      <th>6</th>\n",
       "      <td>professor</td>\n",
       "      <td>prof</td>\n",
       "      <td>64</td>\n",
       "      <td>93</td>\n",
       "      <td>93</td>\n",
       "    </tr>\n",
       "    <tr>\n",
       "      <th>7</th>\n",
       "      <td>dentist</td>\n",
       "      <td>prof</td>\n",
       "      <td>80</td>\n",
       "      <td>100</td>\n",
       "      <td>90</td>\n",
       "    </tr>\n",
       "    <tr>\n",
       "      <th>8</th>\n",
       "      <td>reporter</td>\n",
       "      <td>wc</td>\n",
       "      <td>67</td>\n",
       "      <td>87</td>\n",
       "      <td>52</td>\n",
       "    </tr>\n",
       "    <tr>\n",
       "      <th>9</th>\n",
       "      <td>engineer</td>\n",
       "      <td>prof</td>\n",
       "      <td>72</td>\n",
       "      <td>86</td>\n",
       "      <td>88</td>\n",
       "    </tr>\n",
       "    <tr>\n",
       "      <th>10</th>\n",
       "      <td>undertaker</td>\n",
       "      <td>prof</td>\n",
       "      <td>42</td>\n",
       "      <td>74</td>\n",
       "      <td>57</td>\n",
       "    </tr>\n",
       "    <tr>\n",
       "      <th>11</th>\n",
       "      <td>lawyer</td>\n",
       "      <td>prof</td>\n",
       "      <td>76</td>\n",
       "      <td>98</td>\n",
       "      <td>89</td>\n",
       "    </tr>\n",
       "    <tr>\n",
       "      <th>12</th>\n",
       "      <td>physician</td>\n",
       "      <td>prof</td>\n",
       "      <td>76</td>\n",
       "      <td>97</td>\n",
       "      <td>97</td>\n",
       "    </tr>\n",
       "    <tr>\n",
       "      <th>13</th>\n",
       "      <td>welfare.worker</td>\n",
       "      <td>prof</td>\n",
       "      <td>41</td>\n",
       "      <td>84</td>\n",
       "      <td>59</td>\n",
       "    </tr>\n",
       "    <tr>\n",
       "      <th>14</th>\n",
       "      <td>teacher</td>\n",
       "      <td>prof</td>\n",
       "      <td>48</td>\n",
       "      <td>91</td>\n",
       "      <td>73</td>\n",
       "    </tr>\n",
       "    <tr>\n",
       "      <th>15</th>\n",
       "      <td>conductor</td>\n",
       "      <td>wc</td>\n",
       "      <td>76</td>\n",
       "      <td>34</td>\n",
       "      <td>38</td>\n",
       "    </tr>\n",
       "    <tr>\n",
       "      <th>16</th>\n",
       "      <td>contractor</td>\n",
       "      <td>prof</td>\n",
       "      <td>53</td>\n",
       "      <td>45</td>\n",
       "      <td>76</td>\n",
       "    </tr>\n",
       "    <tr>\n",
       "      <th>17</th>\n",
       "      <td>factory.owner</td>\n",
       "      <td>prof</td>\n",
       "      <td>60</td>\n",
       "      <td>56</td>\n",
       "      <td>81</td>\n",
       "    </tr>\n",
       "    <tr>\n",
       "      <th>18</th>\n",
       "      <td>store.manager</td>\n",
       "      <td>prof</td>\n",
       "      <td>42</td>\n",
       "      <td>44</td>\n",
       "      <td>45</td>\n",
       "    </tr>\n",
       "    <tr>\n",
       "      <th>19</th>\n",
       "      <td>banker</td>\n",
       "      <td>prof</td>\n",
       "      <td>78</td>\n",
       "      <td>82</td>\n",
       "      <td>92</td>\n",
       "    </tr>\n",
       "    <tr>\n",
       "      <th>20</th>\n",
       "      <td>bookkeeper</td>\n",
       "      <td>wc</td>\n",
       "      <td>29</td>\n",
       "      <td>72</td>\n",
       "      <td>39</td>\n",
       "    </tr>\n",
       "    <tr>\n",
       "      <th>21</th>\n",
       "      <td>mail.carrier</td>\n",
       "      <td>wc</td>\n",
       "      <td>48</td>\n",
       "      <td>55</td>\n",
       "      <td>34</td>\n",
       "    </tr>\n",
       "    <tr>\n",
       "      <th>22</th>\n",
       "      <td>insurance.agent</td>\n",
       "      <td>wc</td>\n",
       "      <td>55</td>\n",
       "      <td>71</td>\n",
       "      <td>41</td>\n",
       "    </tr>\n",
       "    <tr>\n",
       "      <th>23</th>\n",
       "      <td>store.clerk</td>\n",
       "      <td>wc</td>\n",
       "      <td>29</td>\n",
       "      <td>50</td>\n",
       "      <td>16</td>\n",
       "    </tr>\n",
       "    <tr>\n",
       "      <th>24</th>\n",
       "      <td>carpenter</td>\n",
       "      <td>bc</td>\n",
       "      <td>21</td>\n",
       "      <td>23</td>\n",
       "      <td>33</td>\n",
       "    </tr>\n",
       "    <tr>\n",
       "      <th>25</th>\n",
       "      <td>electrician</td>\n",
       "      <td>bc</td>\n",
       "      <td>47</td>\n",
       "      <td>39</td>\n",
       "      <td>53</td>\n",
       "    </tr>\n",
       "    <tr>\n",
       "      <th>26</th>\n",
       "      <td>RR.engineer</td>\n",
       "      <td>bc</td>\n",
       "      <td>81</td>\n",
       "      <td>28</td>\n",
       "      <td>67</td>\n",
       "    </tr>\n",
       "    <tr>\n",
       "      <th>27</th>\n",
       "      <td>machinist</td>\n",
       "      <td>bc</td>\n",
       "      <td>36</td>\n",
       "      <td>32</td>\n",
       "      <td>57</td>\n",
       "    </tr>\n",
       "    <tr>\n",
       "      <th>28</th>\n",
       "      <td>auto.repairman</td>\n",
       "      <td>bc</td>\n",
       "      <td>22</td>\n",
       "      <td>22</td>\n",
       "      <td>26</td>\n",
       "    </tr>\n",
       "    <tr>\n",
       "      <th>29</th>\n",
       "      <td>plumber</td>\n",
       "      <td>bc</td>\n",
       "      <td>44</td>\n",
       "      <td>25</td>\n",
       "      <td>29</td>\n",
       "    </tr>\n",
       "    <tr>\n",
       "      <th>30</th>\n",
       "      <td>gas.stn.attendant</td>\n",
       "      <td>bc</td>\n",
       "      <td>15</td>\n",
       "      <td>29</td>\n",
       "      <td>10</td>\n",
       "    </tr>\n",
       "    <tr>\n",
       "      <th>31</th>\n",
       "      <td>coal.miner</td>\n",
       "      <td>bc</td>\n",
       "      <td>7</td>\n",
       "      <td>7</td>\n",
       "      <td>15</td>\n",
       "    </tr>\n",
       "    <tr>\n",
       "      <th>32</th>\n",
       "      <td>streetcar.motorman</td>\n",
       "      <td>bc</td>\n",
       "      <td>42</td>\n",
       "      <td>26</td>\n",
       "      <td>19</td>\n",
       "    </tr>\n",
       "    <tr>\n",
       "      <th>33</th>\n",
       "      <td>taxi.driver</td>\n",
       "      <td>bc</td>\n",
       "      <td>9</td>\n",
       "      <td>19</td>\n",
       "      <td>10</td>\n",
       "    </tr>\n",
       "    <tr>\n",
       "      <th>34</th>\n",
       "      <td>truck.driver</td>\n",
       "      <td>bc</td>\n",
       "      <td>21</td>\n",
       "      <td>15</td>\n",
       "      <td>13</td>\n",
       "    </tr>\n",
       "    <tr>\n",
       "      <th>35</th>\n",
       "      <td>machine.operator</td>\n",
       "      <td>bc</td>\n",
       "      <td>21</td>\n",
       "      <td>20</td>\n",
       "      <td>24</td>\n",
       "    </tr>\n",
       "    <tr>\n",
       "      <th>36</th>\n",
       "      <td>barber</td>\n",
       "      <td>bc</td>\n",
       "      <td>16</td>\n",
       "      <td>26</td>\n",
       "      <td>20</td>\n",
       "    </tr>\n",
       "    <tr>\n",
       "      <th>37</th>\n",
       "      <td>bartender</td>\n",
       "      <td>bc</td>\n",
       "      <td>16</td>\n",
       "      <td>28</td>\n",
       "      <td>7</td>\n",
       "    </tr>\n",
       "    <tr>\n",
       "      <th>38</th>\n",
       "      <td>shoe.shiner</td>\n",
       "      <td>bc</td>\n",
       "      <td>9</td>\n",
       "      <td>17</td>\n",
       "      <td>3</td>\n",
       "    </tr>\n",
       "    <tr>\n",
       "      <th>39</th>\n",
       "      <td>cook</td>\n",
       "      <td>bc</td>\n",
       "      <td>14</td>\n",
       "      <td>22</td>\n",
       "      <td>16</td>\n",
       "    </tr>\n",
       "    <tr>\n",
       "      <th>40</th>\n",
       "      <td>soda.clerk</td>\n",
       "      <td>bc</td>\n",
       "      <td>12</td>\n",
       "      <td>30</td>\n",
       "      <td>6</td>\n",
       "    </tr>\n",
       "    <tr>\n",
       "      <th>41</th>\n",
       "      <td>watchman</td>\n",
       "      <td>bc</td>\n",
       "      <td>17</td>\n",
       "      <td>25</td>\n",
       "      <td>11</td>\n",
       "    </tr>\n",
       "    <tr>\n",
       "      <th>42</th>\n",
       "      <td>janitor</td>\n",
       "      <td>bc</td>\n",
       "      <td>7</td>\n",
       "      <td>20</td>\n",
       "      <td>8</td>\n",
       "    </tr>\n",
       "    <tr>\n",
       "      <th>43</th>\n",
       "      <td>policeman</td>\n",
       "      <td>bc</td>\n",
       "      <td>34</td>\n",
       "      <td>47</td>\n",
       "      <td>41</td>\n",
       "    </tr>\n",
       "    <tr>\n",
       "      <th>44</th>\n",
       "      <td>waiter</td>\n",
       "      <td>bc</td>\n",
       "      <td>8</td>\n",
       "      <td>32</td>\n",
       "      <td>10</td>\n",
       "    </tr>\n",
       "  </tbody>\n",
       "</table>\n",
       "</div>"
      ],
      "text/plain": [
       "                  name  type  income  education  prestige\n",
       "0           accountant  prof      62         86        82\n",
       "1                pilot  prof      72         76        83\n",
       "2            architect  prof      75         92        90\n",
       "3               author  prof      55         90        76\n",
       "4              chemist  prof      64         86        90\n",
       "5             minister  prof      21         84        87\n",
       "6            professor  prof      64         93        93\n",
       "7              dentist  prof      80        100        90\n",
       "8             reporter    wc      67         87        52\n",
       "9             engineer  prof      72         86        88\n",
       "10          undertaker  prof      42         74        57\n",
       "11              lawyer  prof      76         98        89\n",
       "12           physician  prof      76         97        97\n",
       "13      welfare.worker  prof      41         84        59\n",
       "14             teacher  prof      48         91        73\n",
       "15           conductor    wc      76         34        38\n",
       "16          contractor  prof      53         45        76\n",
       "17       factory.owner  prof      60         56        81\n",
       "18       store.manager  prof      42         44        45\n",
       "19              banker  prof      78         82        92\n",
       "20          bookkeeper    wc      29         72        39\n",
       "21        mail.carrier    wc      48         55        34\n",
       "22     insurance.agent    wc      55         71        41\n",
       "23         store.clerk    wc      29         50        16\n",
       "24           carpenter    bc      21         23        33\n",
       "25         electrician    bc      47         39        53\n",
       "26         RR.engineer    bc      81         28        67\n",
       "27           machinist    bc      36         32        57\n",
       "28      auto.repairman    bc      22         22        26\n",
       "29             plumber    bc      44         25        29\n",
       "30   gas.stn.attendant    bc      15         29        10\n",
       "31          coal.miner    bc       7          7        15\n",
       "32  streetcar.motorman    bc      42         26        19\n",
       "33         taxi.driver    bc       9         19        10\n",
       "34        truck.driver    bc      21         15        13\n",
       "35    machine.operator    bc      21         20        24\n",
       "36              barber    bc      16         26        20\n",
       "37           bartender    bc      16         28         7\n",
       "38         shoe.shiner    bc       9         17         3\n",
       "39                cook    bc      14         22        16\n",
       "40          soda.clerk    bc      12         30         6\n",
       "41            watchman    bc      17         25        11\n",
       "42             janitor    bc       7         20         8\n",
       "43           policeman    bc      34         47        41\n",
       "44              waiter    bc       8         32        10"
      ]
     },
     "execution_count": 32,
     "metadata": {},
     "output_type": "execute_result"
    }
   ],
   "source": [
    "#- import the Duncan_Occupational_Prestige.csv file as as data frame.\n",
    "duncan_df = pd.read_csv('Duncan_Occupational_Prestige.csv')\n",
    "# Show the result\n",
    "duncan_df"
   ]
  },
  {
   "cell_type": "markdown",
   "id": "fc3a40c9",
   "metadata": {},
   "source": [
    "In the cell below, plot `prestige` as a function of `income`:"
   ]
  },
  {
   "cell_type": "code",
   "execution_count": 34,
   "id": "8f0aa03a",
   "metadata": {},
   "outputs": [
    {
     "data": {
      "text/plain": [
       "Text(0, 0.5, 'prestige')"
      ]
     },
     "execution_count": 34,
     "metadata": {},
     "output_type": "execute_result"
    },
    {
     "data": {
      "image/png": "[encoded data removed]",
      "text/plain": [
       "<Figure size 640x480 with 1 Axes>"
      ]
     },
     "metadata": {},
     "output_type": "display_data"
    }
   ],
   "source": [
    "#- your scatterplot here\n",
    "income = np.array(duncan_df['income'])\n",
    "prestige = np.array(duncan_df['prestige'])\n",
    "plt.plot(income, prestige, 'o')\n",
    "plt.xlabel('income')\n",
    "plt.ylabel('prestige')"
   ]
  },
  {
   "cell_type": "markdown",
   "id": "9f4b3ddb",
   "metadata": {},
   "source": [
    "After inspecting your plot, please set the variable `my_Q11_answer` in the cell\n",
    "below to the number corresponding to statement you think is most true (e.g. if\n",
    "you think the answer is statement 1, set `my_Q11_answer` to equal 1):\n",
    "\n",
    "`1` - lower `income` scores appear to predict higher `prestige` scores\n",
    "\n",
    "`2` - `income` and `prestige` look to be randomly associated\n",
    "\n",
    "`3` - higher `income` scores appear to predict higher `prestige` scores\n",
    "\n",
    "`4` - all of the above are true\n",
    "\n",
    "`5` - none of the above are true"
   ]
  },
  {
   "cell_type": "code",
   "execution_count": 35,
   "id": "6935a3b1",
   "metadata": {},
   "outputs": [],
   "source": [
    "#- set `my_Q11_answer` to your answer\n",
    "my_Q11_answer = 3"
   ]
  },
  {
   "cell_type": "code",
   "execution_count": 36,
   "id": "9e261de8",
   "metadata": {},
   "outputs": [
    {
     "name": "stdout",
     "output_type": "stream",
     "text": [
      "~~~~~~~~~~~~~~~~~~~~~~~~~~~~~~~~~~~~~~~~~~~~~~~~~~~~~~~~~~~~~~~~~~~~~\n",
      "Running tests\n",
      "\n",
      "---------------------------------------------------------------------\n",
      "Test summary\n",
      "    Passed: 1\n",
      "    Failed: 0\n",
      "[ooooooooook] 100.0% passed\n",
      "\n"
     ]
    }
   ],
   "source": [
    "# run this cell to check your answer\n",
    "_ = ok.grade('q11')"
   ]
  },
  {
   "cell_type": "markdown",
   "id": "61390444",
   "metadata": {},
   "source": [
    "## Question 12\n",
    "\n",
    "On the textbook page, we mentioned that there are a lot of different terms for the variables in regression models.\n",
    "\n",
    "Let's assume you're working with a data scientist who has a habit of using the terminology from multiple disciplines.\n",
    "\n",
    "They've asked you to fit a linear regression model to the Duncan data. Please run the cell below, to generate the instruction from your colleague regarding which variables you should include in your model:\n",
    "\n",
    "*Note*: the terminology used is correct, but the specific terms are random (out of the available terms), this is in order to check that you are familiar with whatever terms you might hear!"
   ]
  },
  {
   "cell_type": "code",
   "execution_count": 37,
   "id": "f18e86db",
   "metadata": {},
   "outputs": [
    {
     "data": {
      "text/markdown": [
       "Please fit a linear regression model, use `income` as your feature, and `prestige` as your outcome variable."
      ],
      "text/plain": [
       "<IPython.core.display.Markdown object>"
      ]
     },
     "metadata": {},
     "output_type": "display_data"
    }
   ],
   "source": [
    "# generate your colleague's question\n",
    "jupyprint(f\"Please fit a linear regression model, use `income` as your {np.random.choice(names_1)}, and `prestige` as your {np.random.choice(names_2)}.\")"
   ]
  },
  {
   "cell_type": "markdown",
   "id": "6f59ad64",
   "metadata": {},
   "source": [
    "Please follow your colleague's instruction in the cell below, using the data in the `duncan_df` dataframe.\n",
    "\n",
    "The form of the model should be as follows (as there are 45 observations in `duncan_df`):\n",
    "\n",
    "$$\n",
    "\\small\n",
    "\\begin{bmatrix}\n",
    "y_{1} \\\\ y_{2} \\\\ y_{3} \\\\ y_{4} \\\\ y_{5} \\\\ y_{6} \\\\ y_{7} \\\\ y_{8} \\\\ y_{9} \\\\ y_{10} \\\\ y_{11} \\\\ y_{12} \\\\ y_{13} \\\\ y_{14} \\\\ y_{15} \\\\ y_{16} \\\\ y_{17} \\\\ y_{18} \\\\ y_{19} \\\\ y_{20} \\\\ y_{21} \\\\ y_{22} \\\\ y_{23} \\\\ y_{24} \\\\ y_{25} \\\\ y_{26} \\\\ y_{27} \\\\ y_{28} \\\\ y_{29} \\\\ y_{30} \\\\ y_{31} \\\\ y_{32} \\\\ y_{33} \\\\ y_{34} \\\\ y_{35} \\\\ y_{36} \\\\ y_{37} \\\\ y_{38} \\\\ y_{39} \\\\ y_{40} \\\\ y_{41} \\\\ y_{42} \\\\ y_{43} \\\\ y_{44} \\\\ y_{45} \\\\\n",
    "\\end{bmatrix}\n",
    "= b \\cdot\n",
    "\\begin{bmatrix} x_{1} \\\\ x_{2} \\\\ x_{3} \\\\ x_{4} \\\\ x_{5} \\\\ x_{6} \\\\ x_{7} \\\\ x_{8} \\\\ x_{9} \\\\ x_{10} \\\\ x_{11} \\\\ x_{12} \\\\ x_{13} \\\\ x_{14} \\\\ x_{15} \\\\ x_{16} \\\\ x_{17} \\\\ x_{18} \\\\ x_{19} \\\\ x_{20} \\\\ x_{21} \\\\ x_{22} \\\\ x_{23} \\\\ x_{24} \\\\ x_{25} \\\\ x_{26} \\\\ x_{27} \\\\ x_{28} \\\\ x_{29} \\\\ x_{30} \\\\ x_{31} \\\\ x_{32} \\\\ x_{33} \\\\ x_{34} \\\\ x_{35} \\\\ x_{36} \\\\ x_{37} \\\\ x_{38} \\\\ x_{39} \\\\ x_{40} \\\\ x_{41} \\\\ x_{42} \\\\ x_{43} \\\\ x_{44} \\\\ x_{45} \\\\\n",
    "\\end{bmatrix}\n",
    "+ c + \\begin{bmatrix} \\varepsilon_{1} \\\\ \\varepsilon_{2} \\\\ \\varepsilon_{3} \\\\ \\varepsilon_{4} \\\\ \\varepsilon_{5} \\\\ \\varepsilon_{6} \\\\ \\varepsilon_{7} \\\\ \\varepsilon_{8} \\\\ \\varepsilon_{9} \\\\ \\varepsilon_{10} \\\\ \\varepsilon_{11} \\\\ \\varepsilon_{12} \\\\ \\varepsilon_{13} \\\\ \\varepsilon_{14} \\\\ \\varepsilon_{15} \\\\ \\varepsilon_{16} \\\\ \\varepsilon_{17} \\\\ \\varepsilon_{18} \\\\ \\varepsilon_{19} \\\\ \\varepsilon_{20} \\\\ \\varepsilon_{21} \\\\ \\varepsilon_{22} \\\\ \\varepsilon_{23} \\\\ \\varepsilon_{24} \\\\ \\varepsilon_{25} \\\\ \\varepsilon_{26} \\\\ \\varepsilon_{27} \\\\ \\varepsilon_{28} \\\\ \\varepsilon_{29} \\\\ \\varepsilon_{30} \\\\ \\varepsilon_{31} \\\\ \\varepsilon_{32} \\\\ \\varepsilon_{33} \\\\ \\varepsilon_{34} \\\\ \\varepsilon_{35} \\\\ \\varepsilon_{36} \\\\ \\varepsilon_{37} \\\\ \\varepsilon_{38} \\\\ \\varepsilon_{39} \\\\ \\varepsilon_{40} \\\\ \\varepsilon_{41} \\\\ \\varepsilon_{42} \\\\ \\varepsilon_{43} \\\\ \\varepsilon_{44} \\\\ \\varepsilon_{45} \\\\ \\end{bmatrix}\n",
    "$$\n",
    "\n",
    "After performing the regression, you should have variables stored with the following names: `y_for_Q12`, `x_for_Q12`, `b_for_Q12`, `c_for_Q12`, `errors_for_Q12`, corresponding to the equation in the cell above, and to your colleague's question (so $b$ should be stored as a variable called `b_for_Q12`, where $b$ and `b_for_Q12` are the slope from a linear regression using the variables that your colleague asked you to use, and so on):"
   ]
  },
  {
   "cell_type": "code",
   "execution_count": 38,
   "id": "9afe2e36",
   "metadata": {},
   "outputs": [],
   "source": [
    "#- define your y vector here\n",
    "y_for_Q12 = prestige \n",
    "#- define your x vector here\n",
    "x_for_Q12 = income\n",
    "#- perform your linear regression here\n",
    "duncan_mod_1 = linregress(x_for_Q12, y_for_Q12)\n",
    "#- store your \"b\" variable here\n",
    "b_for_Q12 = duncan_mod_1[0]\n",
    "#- store your \"c\" variable here\n",
    "c_for_Q12 = duncan_mod_1[1]\n",
    "#- store your \"errors\" variable here\n",
    "errors_for_Q12 = y_for_Q12 - (c_for_Q12 + (b_for_Q12*x_for_Q12))"
   ]
  },
  {
   "cell_type": "code",
   "execution_count": 39,
   "id": "a7ef0bfe",
   "metadata": {},
   "outputs": [
    {
     "name": "stdout",
     "output_type": "stream",
     "text": [
      "~~~~~~~~~~~~~~~~~~~~~~~~~~~~~~~~~~~~~~~~~~~~~~~~~~~~~~~~~~~~~~~~~~~~~\n",
      "Running tests\n",
      "\n",
      "---------------------------------------------------------------------\n",
      "Test summary\n",
      "    Passed: 3\n",
      "    Failed: 0\n",
      "[ooooooooook] 100.0% passed\n",
      "\n"
     ]
    }
   ],
   "source": [
    "# run this cell to check your answer\n",
    "_ = ok.grade('q12')"
   ]
  },
  {
   "cell_type": "markdown",
   "id": "e2754a2c",
   "metadata": {},
   "source": [
    "## Question 13\n",
    "\n",
    "The cell below contains the data for a hypothetical occupations which are not present in the Duncan data, and for which the `prestige` scores are missing:"
   ]
  },
  {
   "cell_type": "code",
   "execution_count": 40,
   "id": "cd3575f9",
   "metadata": {},
   "outputs": [
    {
     "data": {
      "text/html": [
       "<div>\n",
       "<style scoped>\n",
       "    .dataframe tbody tr th:only-of-type {\n",
       "        vertical-align: middle;\n",
       "    }\n",
       "\n",
       "    .dataframe tbody tr th {\n",
       "        vertical-align: top;\n",
       "    }\n",
       "\n",
       "    .dataframe thead th {\n",
       "        text-align: right;\n",
       "    }\n",
       "</style>\n",
       "<table border=\"1\" class=\"dataframe\">\n",
       "  <thead>\n",
       "    <tr style=\"text-align: right;\">\n",
       "      <th></th>\n",
       "      <th>names</th>\n",
       "      <th>income</th>\n",
       "    </tr>\n",
       "  </thead>\n",
       "  <tbody>\n",
       "    <tr>\n",
       "      <th>0</th>\n",
       "      <td>Procrastination Technician</td>\n",
       "      <td>18</td>\n",
       "    </tr>\n",
       "    <tr>\n",
       "      <th>1</th>\n",
       "      <td>Snackologist</td>\n",
       "      <td>25</td>\n",
       "    </tr>\n",
       "    <tr>\n",
       "      <th>2</th>\n",
       "      <td>Meme Historian</td>\n",
       "      <td>23</td>\n",
       "    </tr>\n",
       "    <tr>\n",
       "      <th>3</th>\n",
       "      <td>Nap Explorer</td>\n",
       "      <td>17</td>\n",
       "    </tr>\n",
       "  </tbody>\n",
       "</table>\n",
       "</div>"
      ],
      "text/plain": [
       "                        names  income\n",
       "0  Procrastination Technician      18\n",
       "1                Snackologist      25\n",
       "2              Meme Historian      23\n",
       "3                Nap Explorer      17"
      ]
     },
     "execution_count": 40,
     "metadata": {},
     "output_type": "execute_result"
    }
   ],
   "source": [
    "# some other occupations\n",
    "other_occupations = pd.DataFrame({'names': [\"Procrastination Technician\", \"Snackologist\", \"Meme Historian\",\n",
    "                                            \"Nap Explorer\"],\n",
    "                                  'income': [18, 25, 23, 17]})\n",
    "\n",
    "# show the dataframe\n",
    "other_occupations"
   ]
  },
  {
   "cell_type": "markdown",
   "id": "b0d55315",
   "metadata": {},
   "source": [
    "Using the slope and intercept which you calculated in the last question. Please calculate what we would predict the `pestige` scores of these occupations to be, based on their `income` scores. Save the predictions in a variable called `other_occupations_predicted_prestige`.\n",
    "\n",
    "*Hint:* you can do this using the same method by which you would generate the *fitted values* for observations that are in the Duncan dataset."
   ]
  },
  {
   "cell_type": "code",
   "execution_count": 42,
   "id": "04bbd796",
   "metadata": {},
   "outputs": [],
   "source": [
    "#- generate your predicted values here\n",
    "other_occupations_predicted_prestige = (c_for_Q12 + (b_for_Q12*other_occupations['income']))"
   ]
  },
  {
   "cell_type": "code",
   "execution_count": 43,
   "id": "d5687ded",
   "metadata": {},
   "outputs": [
    {
     "name": "stdout",
     "output_type": "stream",
     "text": [
      "~~~~~~~~~~~~~~~~~~~~~~~~~~~~~~~~~~~~~~~~~~~~~~~~~~~~~~~~~~~~~~~~~~~~~\n",
      "Running tests\n",
      "\n",
      "---------------------------------------------------------------------\n",
      "Test summary\n",
      "    Passed: 1\n",
      "    Failed: 0\n",
      "[ooooooooook] 100.0% passed\n",
      "\n"
     ]
    }
   ],
   "source": [
    "# run this cell to check your answer\n",
    "_ = ok.grade('q13')"
   ]
  },
  {
   "cell_type": "markdown",
   "id": "eca5d59f",
   "metadata": {},
   "source": [
    "## Question 14\n",
    "\n",
    "Your colleague would like to fit a linear regression model to just the blue collar jobs in the Duncan dataset (these are the jobs for which `'type' == 'bc'`), to see if the parameter estimates are similar to those for a regression using the same predictor variable and outcome variable.\n",
    "\n",
    "First, create a dataframe called `blue_collar` which contains just the blue collar jobs:"
   ]
  },
  {
   "cell_type": "code",
   "execution_count": 44,
   "id": "f5476a83",
   "metadata": {},
   "outputs": [
    {
     "data": {
      "text/html": [
       "<div>\n",
       "<style scoped>\n",
       "    .dataframe tbody tr th:only-of-type {\n",
       "        vertical-align: middle;\n",
       "    }\n",
       "\n",
       "    .dataframe tbody tr th {\n",
       "        vertical-align: top;\n",
       "    }\n",
       "\n",
       "    .dataframe thead th {\n",
       "        text-align: right;\n",
       "    }\n",
       "</style>\n",
       "<table border=\"1\" class=\"dataframe\">\n",
       "  <thead>\n",
       "    <tr style=\"text-align: right;\">\n",
       "      <th></th>\n",
       "      <th>name</th>\n",
       "      <th>type</th>\n",
       "      <th>income</th>\n",
       "      <th>education</th>\n",
       "      <th>prestige</th>\n",
       "    </tr>\n",
       "  </thead>\n",
       "  <tbody>\n",
       "    <tr>\n",
       "      <th>24</th>\n",
       "      <td>carpenter</td>\n",
       "      <td>bc</td>\n",
       "      <td>21</td>\n",
       "      <td>23</td>\n",
       "      <td>33</td>\n",
       "    </tr>\n",
       "    <tr>\n",
       "      <th>25</th>\n",
       "      <td>electrician</td>\n",
       "      <td>bc</td>\n",
       "      <td>47</td>\n",
       "      <td>39</td>\n",
       "      <td>53</td>\n",
       "    </tr>\n",
       "    <tr>\n",
       "      <th>26</th>\n",
       "      <td>RR.engineer</td>\n",
       "      <td>bc</td>\n",
       "      <td>81</td>\n",
       "      <td>28</td>\n",
       "      <td>67</td>\n",
       "    </tr>\n",
       "    <tr>\n",
       "      <th>27</th>\n",
       "      <td>machinist</td>\n",
       "      <td>bc</td>\n",
       "      <td>36</td>\n",
       "      <td>32</td>\n",
       "      <td>57</td>\n",
       "    </tr>\n",
       "    <tr>\n",
       "      <th>28</th>\n",
       "      <td>auto.repairman</td>\n",
       "      <td>bc</td>\n",
       "      <td>22</td>\n",
       "      <td>22</td>\n",
       "      <td>26</td>\n",
       "    </tr>\n",
       "    <tr>\n",
       "      <th>29</th>\n",
       "      <td>plumber</td>\n",
       "      <td>bc</td>\n",
       "      <td>44</td>\n",
       "      <td>25</td>\n",
       "      <td>29</td>\n",
       "    </tr>\n",
       "    <tr>\n",
       "      <th>30</th>\n",
       "      <td>gas.stn.attendant</td>\n",
       "      <td>bc</td>\n",
       "      <td>15</td>\n",
       "      <td>29</td>\n",
       "      <td>10</td>\n",
       "    </tr>\n",
       "    <tr>\n",
       "      <th>31</th>\n",
       "      <td>coal.miner</td>\n",
       "      <td>bc</td>\n",
       "      <td>7</td>\n",
       "      <td>7</td>\n",
       "      <td>15</td>\n",
       "    </tr>\n",
       "    <tr>\n",
       "      <th>32</th>\n",
       "      <td>streetcar.motorman</td>\n",
       "      <td>bc</td>\n",
       "      <td>42</td>\n",
       "      <td>26</td>\n",
       "      <td>19</td>\n",
       "    </tr>\n",
       "    <tr>\n",
       "      <th>33</th>\n",
       "      <td>taxi.driver</td>\n",
       "      <td>bc</td>\n",
       "      <td>9</td>\n",
       "      <td>19</td>\n",
       "      <td>10</td>\n",
       "    </tr>\n",
       "    <tr>\n",
       "      <th>34</th>\n",
       "      <td>truck.driver</td>\n",
       "      <td>bc</td>\n",
       "      <td>21</td>\n",
       "      <td>15</td>\n",
       "      <td>13</td>\n",
       "    </tr>\n",
       "    <tr>\n",
       "      <th>35</th>\n",
       "      <td>machine.operator</td>\n",
       "      <td>bc</td>\n",
       "      <td>21</td>\n",
       "      <td>20</td>\n",
       "      <td>24</td>\n",
       "    </tr>\n",
       "    <tr>\n",
       "      <th>36</th>\n",
       "      <td>barber</td>\n",
       "      <td>bc</td>\n",
       "      <td>16</td>\n",
       "      <td>26</td>\n",
       "      <td>20</td>\n",
       "    </tr>\n",
       "    <tr>\n",
       "      <th>37</th>\n",
       "      <td>bartender</td>\n",
       "      <td>bc</td>\n",
       "      <td>16</td>\n",
       "      <td>28</td>\n",
       "      <td>7</td>\n",
       "    </tr>\n",
       "    <tr>\n",
       "      <th>38</th>\n",
       "      <td>shoe.shiner</td>\n",
       "      <td>bc</td>\n",
       "      <td>9</td>\n",
       "      <td>17</td>\n",
       "      <td>3</td>\n",
       "    </tr>\n",
       "    <tr>\n",
       "      <th>39</th>\n",
       "      <td>cook</td>\n",
       "      <td>bc</td>\n",
       "      <td>14</td>\n",
       "      <td>22</td>\n",
       "      <td>16</td>\n",
       "    </tr>\n",
       "    <tr>\n",
       "      <th>40</th>\n",
       "      <td>soda.clerk</td>\n",
       "      <td>bc</td>\n",
       "      <td>12</td>\n",
       "      <td>30</td>\n",
       "      <td>6</td>\n",
       "    </tr>\n",
       "    <tr>\n",
       "      <th>41</th>\n",
       "      <td>watchman</td>\n",
       "      <td>bc</td>\n",
       "      <td>17</td>\n",
       "      <td>25</td>\n",
       "      <td>11</td>\n",
       "    </tr>\n",
       "    <tr>\n",
       "      <th>42</th>\n",
       "      <td>janitor</td>\n",
       "      <td>bc</td>\n",
       "      <td>7</td>\n",
       "      <td>20</td>\n",
       "      <td>8</td>\n",
       "    </tr>\n",
       "    <tr>\n",
       "      <th>43</th>\n",
       "      <td>policeman</td>\n",
       "      <td>bc</td>\n",
       "      <td>34</td>\n",
       "      <td>47</td>\n",
       "      <td>41</td>\n",
       "    </tr>\n",
       "    <tr>\n",
       "      <th>44</th>\n",
       "      <td>waiter</td>\n",
       "      <td>bc</td>\n",
       "      <td>8</td>\n",
       "      <td>32</td>\n",
       "      <td>10</td>\n",
       "    </tr>\n",
       "  </tbody>\n",
       "</table>\n",
       "</div>"
      ],
      "text/plain": [
       "                  name type  income  education  prestige\n",
       "24           carpenter   bc      21         23        33\n",
       "25         electrician   bc      47         39        53\n",
       "26         RR.engineer   bc      81         28        67\n",
       "27           machinist   bc      36         32        57\n",
       "28      auto.repairman   bc      22         22        26\n",
       "29             plumber   bc      44         25        29\n",
       "30   gas.stn.attendant   bc      15         29        10\n",
       "31          coal.miner   bc       7          7        15\n",
       "32  streetcar.motorman   bc      42         26        19\n",
       "33         taxi.driver   bc       9         19        10\n",
       "34        truck.driver   bc      21         15        13\n",
       "35    machine.operator   bc      21         20        24\n",
       "36              barber   bc      16         26        20\n",
       "37           bartender   bc      16         28         7\n",
       "38         shoe.shiner   bc       9         17         3\n",
       "39                cook   bc      14         22        16\n",
       "40          soda.clerk   bc      12         30         6\n",
       "41            watchman   bc      17         25        11\n",
       "42             janitor   bc       7         20         8\n",
       "43           policeman   bc      34         47        41\n",
       "44              waiter   bc       8         32        10"
      ]
     },
     "execution_count": 44,
     "metadata": {},
     "output_type": "execute_result"
    }
   ],
   "source": [
    "#- get just the blue collar jobs in their own dataframe\n",
    "blue_collar = duncan_df[duncan_df['type'] == 'bc']\n",
    "# Show the result\n",
    "blue_collar"
   ]
  },
  {
   "cell_type": "markdown",
   "id": "1d342a71",
   "metadata": {},
   "source": [
    "Run the cell below to show the linear regression model which you should fit. \n",
    "\n",
    "The equation shows the actual values within each vector - you should work out from the values which columns of the `blue_collar` dataframe you need to use as each vector in your model:"
   ]
  },
  {
   "cell_type": "code",
   "execution_count": 45,
   "id": "be173475",
   "metadata": {},
   "outputs": [
    {
     "data": {
      "text/markdown": [
       "$\\begin{bmatrix}{} 33 \\\\ 53 \\\\ 67 \\\\ 57 \\\\ 26 \\\\ 29 \\\\ 10 \\\\ 15 \\\\ 19 \\\\ 10 \\\\ 13 \\\\ 24 \\\\ 20 \\\\ 7 \\\\ 3 \\\\ 16 \\\\ 6 \\\\ 11 \\\\ 8 \\\\ 41 \\\\ 10 \\\\ \\end{bmatrix} = b * \\begin{bmatrix}{} 21 \\\\ 47 \\\\ 81 \\\\ 36 \\\\ 22 \\\\ 44 \\\\ 15 \\\\ 7 \\\\ 42 \\\\ 9 \\\\ 21 \\\\ 21 \\\\ 16 \\\\ 16 \\\\ 9 \\\\ 14 \\\\ 12 \\\\ 17 \\\\ 7 \\\\ 34 \\\\ 8 \\\\ \\end{bmatrix} + c + $$ \\begin{bmatrix} \\varepsilon_{1} \\\\ \\varepsilon_{2} \\\\ \\varepsilon_{3} \\\\ \\varepsilon_{4} \\\\ \\varepsilon_{5} \\\\ \\varepsilon_{6} \\\\ \\varepsilon_{7} \\\\ \\varepsilon_{8} \\\\ \\varepsilon_{9} \\\\ \\varepsilon_{10} \\\\ \\varepsilon_{11} \\\\ \\varepsilon_{12} \\\\ \\varepsilon_{13} \\\\ \\varepsilon_{14} \\\\ \\varepsilon_{15} \\\\ \\varepsilon_{16} \\\\ \\varepsilon_{17} \\\\ \\varepsilon_{18} \\\\ \\varepsilon_{19} \\\\ \\varepsilon_{20} \\\\ \\varepsilon_{21} \\\\ \\end{bmatrix}$"
      ],
      "text/plain": [
       "<IPython.core.display.Markdown object>"
      ]
     },
     "metadata": {},
     "output_type": "display_data"
    }
   ],
   "source": [
    "# run this cell to show the model you should fit\n",
    "jupyprint(f\"${arraytex(np.atleast_2d(tester_4.values).T)} = \"\n",
    "          f\"b * {arraytex(np.atleast_2d(tester_3.values).T)} + \"\n",
    "          f\"c + $\" + \"$ \\\\begin{bmatrix} \\\\varepsilon_{1} \\\\\\\\ \\\\varepsilon_{2} \\\\\\\\ \\\\varepsilon_{3} \\\\\\\\ \\\\varepsilon_{4} \\\\\\\\ \\\\varepsilon_{5} \\\\\\\\ \\\\varepsilon_{6} \\\\\\\\ \\\\varepsilon_{7} \\\\\\\\ \\\\varepsilon_{8} \\\\\\\\ \\\\varepsilon_{9} \\\\\\\\ \\\\varepsilon_{10} \\\\\\\\ \\\\varepsilon_{11} \\\\\\\\ \\\\varepsilon_{12} \\\\\\\\ \\\\varepsilon_{13} \\\\\\\\ \\\\varepsilon_{14} \\\\\\\\ \\\\varepsilon_{15} \\\\\\\\ \\\\varepsilon_{16} \\\\\\\\ \\\\varepsilon_{17} \\\\\\\\ \\\\varepsilon_{18} \\\\\\\\ \\\\varepsilon_{19} \\\\\\\\ \\\\varepsilon_{20} \\\\\\\\ \\\\varepsilon_{21} \\\\\\\\ \\\\end{bmatrix}$\")"
   ]
  },
  {
   "cell_type": "markdown",
   "id": "f68855c5",
   "metadata": {},
   "source": [
    "Please peform the linear regression that your colleague has requested. You should use variables called `y_for_Q14`, `x_for_Q14`, `b_for_Q14`, `c_for_Q14`, `errors_for_Q14`, corresponding to the equation in the cell above, and to your colleague's question (so $b$ should be stored as a variable called `b_for_Q14`, where $b$ and `b_for_Q14` are the slope from a linear regression using the variables that your colleague asked you to use, and so on):"
   ]
  },
  {
   "cell_type": "code",
   "execution_count": 46,
   "id": "8ce5e83a",
   "metadata": {},
   "outputs": [],
   "source": [
    "#- define your y vector here\n",
    "y_for_Q14 = np.array(blue_collar['prestige'])\n",
    "#- define your x vector here\n",
    "x_for_Q14 = np.array(blue_collar['income'])\n",
    "#- perform your linear regression here\n",
    "duncan_mod_2 = linregress(x_for_Q14, y_for_Q14)\n",
    "#- store your \"b\" variable here\n",
    "b_for_Q14 = duncan_mod_2[0]\n",
    "#- store your \"c\" variable here\n",
    "c_for_Q14 = duncan_mod_2[1]\n",
    "#- store your \"errors\" variable here\n",
    "errors_for_Q14 = y_for_Q14 - (c_for_Q14 + (b_for_Q14*x_for_Q14))"
   ]
  },
  {
   "cell_type": "code",
   "execution_count": 47,
   "id": "ac40a8f0",
   "metadata": {},
   "outputs": [
    {
     "name": "stdout",
     "output_type": "stream",
     "text": [
      "~~~~~~~~~~~~~~~~~~~~~~~~~~~~~~~~~~~~~~~~~~~~~~~~~~~~~~~~~~~~~~~~~~~~~\n",
      "Running tests\n",
      "\n",
      "---------------------------------------------------------------------\n",
      "Test summary\n",
      "    Passed: 3\n",
      "    Failed: 0\n",
      "[ooooooooook] 100.0% passed\n",
      "\n"
     ]
    }
   ],
   "source": [
    "# run this cell to check your answer\n",
    "_ = ok.grade('q14')"
   ]
  },
  {
   "cell_type": "markdown",
   "id": "03d38e15",
   "metadata": {},
   "source": [
    "## Question 15\n",
    "\n",
    "Your variable `b_for_Q12` contains the slope ($b$) from a linear regression pedicting `prestige` from `income` using the full Duncan dataset.\n",
    "\n",
    "Your variable `b_for_Q14` contains the slope ($b$) from a linear regression pedicting `prestige` from `income` using only the data from the blue collar (`bc`) jobs within the Duncan dataset.\n",
    "\n",
    "Run the cells below to view each slope."
   ]
  },
  {
   "cell_type": "code",
   "execution_count": 48,
   "id": "3648d61e",
   "metadata": {},
   "outputs": [
    {
     "data": {
      "text/plain": [
       "1.0803896789386604"
      ]
     },
     "execution_count": 48,
     "metadata": {},
     "output_type": "execute_result"
    }
   ],
   "source": [
    "# slope from a linear regression pedicting `prestige` from `income` using\n",
    "# the full Duncan dataset\n",
    "b_for_Q12"
   ]
  },
  {
   "cell_type": "code",
   "execution_count": 49,
   "id": "a7f17f4f",
   "metadata": {},
   "outputs": [
    {
     "data": {
      "text/plain": [
       "0.8450122643289448"
      ]
     },
     "execution_count": 49,
     "metadata": {},
     "output_type": "execute_result"
    }
   ],
   "source": [
    "# from a linear regression pedicting `prestige` from `income` using only\n",
    "# the data from the blue collar (`bc`) jobs\n",
    "b_for_Q14"
   ]
  },
  {
   "cell_type": "markdown",
   "id": "2f4db8f7",
   "metadata": {},
   "source": [
    "In the cell below, write a short paragraph stating what you think the meaning of the difference between these slopes is."
   ]
  },
  {
   "cell_type": "markdown",
   "id": "bc2ed1ab",
   "metadata": {},
   "source": [
    "<i> The change of income for bc jobs increases prestige at a lower rate than for jobs overall. So having a higher income bc job makes less of a diffference in prestige, im sur  </i>"
   ]
  },
  {
   "cell_type": "code",
   "execution_count": null,
   "id": "448f48b7",
   "metadata": {},
   "outputs": [],
   "source": [
    "# For your convenience, you can run this cell to run all the tests at once!\n",
    "import os\n",
    "_ = [ok.grade(q[:-3]) for q in os.listdir(\"tests\") if q.startswith('q')]"
   ]
  }
 ],
 "metadata": {
  "jupytext": {
   "notebook_metadata_filter": "all,-language_info",
   "split_at_heading": true
  },
  "kernelspec": {
   "display_name": "Python 3 (ipykernel)",
   "language": "python",
   "name": "python3"
  },
  "language_info": {
   "codemirror_mode": {
    "name": "ipython",
    "version": 3
   },
   "file_extension": ".py",
   "mimetype": "text/x-python",
   "name": "python",
   "nbconvert_exporter": "python",
   "pygments_lexer": "ipython3",
   "version": "3.11.6"
  }
 },
 "nbformat": 4,
 "nbformat_minor": 5
}
